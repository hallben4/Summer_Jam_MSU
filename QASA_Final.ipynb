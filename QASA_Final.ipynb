{
 "cells": [
  {
   "cell_type": "markdown",
   "metadata": {},
   "source": [
    "# Quantum Ansatz Stretching Algorithm (QASA)"
   ]
  },
  {
   "cell_type": "code",
   "execution_count": 120,
   "metadata": {},
   "outputs": [],
   "source": [
    "# Imports\n",
    "import math\n",
    "import cmath\n",
    "%matplotlib inline\n",
    "import matplotlib as mp\n",
    "import matplotlib.pyplot as plt\n",
    "import numpy as np\n",
    "import scipy as sp\n",
    "from numpy import linalg as la\n",
    "from scipy import linalg as sla\n",
    "from qiskit import *\n",
    "from IPython.display import clear_output\n",
    "\n",
    "from qiskit.quantum_info.synthesis import two_qubit_cnot_decompose as two_qubit_decomp"
   ]
  },
  {
   "cell_type": "code",
   "execution_count": 2,
   "metadata": {},
   "outputs": [],
   "source": [
    "def dict_sv(psi):\n",
    "    n = len(psi)\n",
    "    dic = {}\n",
    "    for i in range(n):\n",
    "        binary = str(np.binary_repr(i))\n",
    "        binary = '0'*int(np.log2(n)-len(binary)) + binary\n",
    "        dic[binary] = psi[i]*np.conj(psi[i])\n",
    "\n",
    "    return dic"
   ]
  },
  {
   "cell_type": "code",
   "execution_count": 3,
   "metadata": {},
   "outputs": [],
   "source": [
    "def dicts_sv(psi):\n",
    "    n = len(psi)\n",
    "    dics = []\n",
    "    for i in range(n):\n",
    "        dic = {}\n",
    "        binary = str(np.binary_repr(i))\n",
    "        binary = '0'*int(np.log2(n)-len(binary)) + binary\n",
    "        dic[binary] = psi[i]*np.conj(psi[i])\n",
    "        dics.append(dic)\n",
    "        \n",
    "    return dics"
   ]
  },
  {
   "cell_type": "code",
   "execution_count": 4,
   "metadata": {},
   "outputs": [],
   "source": [
    "def not_transpose(u_list):\n",
    "    return u_list[0],u_list[1],u_list[2]"
   ]
  },
  {
   "cell_type": "code",
   "execution_count": 5,
   "metadata": {},
   "outputs": [],
   "source": [
    "def transpose(u_list):\n",
    "    return u_list[0], u_list[2] + np.pi, u_list[1] + np.pi"
   ]
  },
  {
   "cell_type": "code",
   "execution_count": 6,
   "metadata": {},
   "outputs": [],
   "source": [
    "def get_phases(psi):\n",
    "    n = len(psi)\n",
    "    p_list = []\n",
    "    for i in range(n):\n",
    "        phi = np.angle(psi[i])\n",
    "        if phi < 0:\n",
    "            phi = 2*np.pi + phi\n",
    "        p_list.append(phi/(2*np.pi))\n",
    "        \n",
    "    return(p_list)"
   ]
  },
  {
   "cell_type": "code",
   "execution_count": 7,
   "metadata": {},
   "outputs": [],
   "source": [
    "# Factor out global phase \n",
    "def factor_gp(psi): \n",
    "    gp = np.exp(1j*np.angle(psi[0]))\n",
    "    psi[0] = np.absolute(psi[0])\n",
    "    for i in range(1,len(psi)):\n",
    "        psi[i] /= gp\n",
    "        \n",
    "    return psi"
   ]
  },
  {
   "cell_type": "markdown",
   "metadata": {},
   "source": [
    "## Ricochet Trick Demonstration"
   ]
  },
  {
   "cell_type": "code",
   "execution_count": 8,
   "metadata": {},
   "outputs": [],
   "source": [
    "def ric_demo1(u_list):\n",
    "    \n",
    "    # Create a circuit\n",
    "    n = 2\n",
    "    q = QuantumRegister(n,'q')\n",
    "    circ = QuantumCircuit(q)\n",
    "    \n",
    "    # Create Bell-state\n",
    "    circ.h(q[0])\n",
    "    circ.cx(q[0],q[1])\n",
    "\n",
    "    t0, p0, l0 = not_transpose(u_list[0])\n",
    "    t1, p1, l1 = not_transpose(u_list[1])\n",
    "    circ.u3(t0,p0,l0,q[0])\n",
    "    circ.u3(t1,p1,l1,q[0])\n",
    "\n",
    "    # Get statevector \n",
    "    backend = BasicAer.get_backend('statevector_simulator')\n",
    "    result = execute(circ, backend).result()\n",
    "    psi = result.get_statevector()\n",
    "    \n",
    "    psi = factor_gp(psi)\n",
    "\n",
    "    phases = get_phases(psi)\n",
    "\n",
    "    color_map = mp.cm.get_cmap('plasma')\n",
    "\n",
    "    dic = dict_sv(psi)\n",
    "    plt.bar(dic.keys(), dic.values(), 0.5, color=color_map(phases))\n",
    "    plt.show()\n",
    "    \n",
    "    return circ.draw(output='mpl')"
   ]
  },
  {
   "cell_type": "code",
   "execution_count": 9,
   "metadata": {},
   "outputs": [],
   "source": [
    "def ric_demo2(u_list):\n",
    "    \n",
    "    # Create a circuit\n",
    "    n = 2\n",
    "    q = QuantumRegister(n,'q')\n",
    "    circ = QuantumCircuit(q)\n",
    "    \n",
    "    # Create Bell-state\n",
    "    circ.h(q[0])\n",
    "    circ.cx(q[0],q[1])\n",
    "\n",
    "    t0, p0, l0 = transpose(u_list[0])\n",
    "    t1, p1, l1 = not_transpose(u_list[1])\n",
    "    circ.u3(t0,p0,l0,q[1])\n",
    "    circ.u3(t1,p1,l1,q[0])\n",
    "    \n",
    "#     circ.swap(q[0],q[1])\n",
    "\n",
    "    # Get statevector \n",
    "    backend = BasicAer.get_backend('statevector_simulator')\n",
    "    result = execute(circ, backend).result()\n",
    "    psi = result.get_statevector()\n",
    "    \n",
    "    psi = factor_gp(psi)\n",
    "\n",
    "    phases = get_phases(psi)\n",
    "\n",
    "    color_map = mp.cm.get_cmap('plasma')\n",
    "\n",
    "    dic = dict_sv(psi)\n",
    "    plt.bar(dic.keys(), dic.values(), 0.5, color=color_map(phases))\n",
    "    plt.show()\n",
    "    \n",
    "    return circ.draw(output='mpl')"
   ]
  },
  {
   "cell_type": "code",
   "execution_count": null,
   "metadata": {},
   "outputs": [],
   "source": [
    "# Generate random single-qubit gate parameters\n",
    "m = 2 # Number of single-qubit gates\n",
    "u_list = []\n",
    "for i in range(m):\n",
    "    theta = np.random.uniform(0,np.pi)\n",
    "    phi = np.random.uniform(0,2*np.pi)\n",
    "    lamb = np.random.uniform(0,2*np.pi)\n",
    "    u_list.append([theta,phi,lamb])"
   ]
  },
  {
   "cell_type": "code",
   "execution_count": null,
   "metadata": {},
   "outputs": [],
   "source": [
    "ric_demo1(u_list)"
   ]
  },
  {
   "cell_type": "code",
   "execution_count": null,
   "metadata": {},
   "outputs": [],
   "source": [
    "ric_demo2(u_list)"
   ]
  },
  {
   "cell_type": "markdown",
   "metadata": {},
   "source": [
    "## Four Single-Qubit Example"
   ]
  },
  {
   "cell_type": "code",
   "execution_count": 251,
   "metadata": {},
   "outputs": [],
   "source": [
    "def p_mat(i):\n",
    "    \n",
    "    p_mat_list = [np.matrix([[0,1],[1,0]],dtype=complex), np.matrix([[0,-1j],[1j,0]],dtype=complex), np.matrix([[1,0],[0,-1]],dtype=complex)]\n",
    "    \n",
    "    return p_mat_list[i-1]"
   ]
  },
  {
   "cell_type": "code",
   "execution_count": 252,
   "metadata": {},
   "outputs": [],
   "source": [
    "def exp_par(t,term):\n",
    "\n",
    "    q = QuantumRegister(5,'q')\n",
    "    c = ClassicalRegister(5,'c')\n",
    "    circ = QuantumCircuit(q,c)\n",
    "\n",
    "    circ.h(q[1])\n",
    "    circ.h(q[3])\n",
    "\n",
    "    circ.cx(q[1],q[2])\n",
    "    circ.cx(q[3],q[4])\n",
    "\n",
    "    circ.barrier()\n",
    "\n",
    "    circ.u3(t[1][0],t[1][1],t[1][2],q[1]) # B\n",
    "    circ.u3(t[0][0],t[0][2]+np.pi,t[0][1]+np.pi,q[2]) # A^T\n",
    "    circ.u3(t[3][0],t[3][1],t[3][2],q[3]) # D\n",
    "    circ.u3(t[2][0],t[2][2]+np.pi,t[2][1]+np.pi,q[4]) # C^T\n",
    "\n",
    "    circ.barrier()\n",
    "\n",
    "    circ.h(q[0])\n",
    "\n",
    "    circ.cx(q[0],q[1])\n",
    "    circ.cx(q[0],q[4])\n",
    "\n",
    "    circ.h(q[0])\n",
    "\n",
    "    circ.barrier()\n",
    "\n",
    "    circ.cx(q[1],q[4])\n",
    "    circ.h(q[1])\n",
    "\n",
    "    circ.barrier()\n",
    "    \n",
    "    ## Rotate basis for tomorgraphy\n",
    "    \n",
    "    # Apply H for X\n",
    "    if term == 'X':\n",
    "        circ.u3(np.pi/2,0,np.pi,q[3])\n",
    "\n",
    "    # Apply HS^(dagger) for Y    \n",
    "    elif term == 'Y':\n",
    "        circ.u3(np.pi/2,0,np.pi/2,q[3]) \n",
    "\n",
    "    # Apply nothing for Z\n",
    "    elif term == 'Z':\n",
    "        pass\n",
    "    \n",
    "    circ.barrier()\n",
    "\n",
    "    circ.measure(q[1],c[1])\n",
    "    circ.measure(q[2],c[2])\n",
    "    circ.measure(q[3],c[3])\n",
    "    circ.measure(q[4],c[4])\n",
    "    # circ.measure(q,c)\n",
    "\n",
    "    backend = BasicAer.get_backend('qasm_simulator')\n",
    "    result = execute(circ, backend, shots=20000).result()\n",
    "    counts = result.get_counts()\n",
    "\n",
    "    return (counts['00000']-counts['01000'])/(counts['00000']+counts['01000'])\n",
    "\n",
    "#     return circ.draw(output='mpl')"
   ]
  },
  {
   "cell_type": "code",
   "execution_count": 253,
   "metadata": {},
   "outputs": [],
   "source": [
    "def exp_ser(t,term):\n",
    "\n",
    "    q = QuantumRegister(1,'q')\n",
    "    c = ClassicalRegister(1,'c')\n",
    "    circ = QuantumCircuit(q,c)\n",
    "\n",
    "    for i in range(4):\n",
    "        circ.u3(t[i][0],t[i][1],t[i][2],q[0])\n",
    "        circ.barrier()\n",
    "    \n",
    "    ## Rotate basis for tomorgraphy\n",
    "    \n",
    "    # Apply H for X\n",
    "    if term == 'X':\n",
    "        circ.u3(np.pi/2,0,np.pi,q[0])\n",
    "\n",
    "    # Apply HS^(dagger) for Y    \n",
    "    elif term == 'Y':\n",
    "        circ.u3(np.pi/2,0,np.pi/2,q[0]) \n",
    "\n",
    "    # Apply nothing for Z\n",
    "    elif term == 'Z':\n",
    "        pass\n",
    "\n",
    "    circ.measure(q,c)\n",
    "\n",
    "    backend = BasicAer.get_backend('qasm_simulator')\n",
    "    result = execute(circ, backend,shots=20000).result()\n",
    "    counts = result.get_counts()\n",
    "    \n",
    "    return (counts['0']-counts['1'])/(counts['0']+counts['1'])\n",
    "\n",
    "#     return circ.draw(output='mpl')"
   ]
  },
  {
   "cell_type": "code",
   "execution_count": 254,
   "metadata": {},
   "outputs": [],
   "source": [
    "def tomo_par(t):\n",
    "    \n",
    "    dm = np.identity(2,dtype=complex)\n",
    "    \n",
    "    p_list = ['X','Y','Z']\n",
    "    \n",
    "    for i in range(1,4):\n",
    "        dm += exp_par(t,p_list[i-1]) * p_mat(i)\n",
    "        \n",
    "    dm /= 2\n",
    "    \n",
    "    return dm"
   ]
  },
  {
   "cell_type": "code",
   "execution_count": 255,
   "metadata": {},
   "outputs": [],
   "source": [
    "def tomo_ser(t):\n",
    "    \n",
    "    dm = np.identity(2,dtype=complex)\n",
    "    \n",
    "    p_list = ['X','Y','Z']\n",
    "    \n",
    "    for i in range(1,4):\n",
    "        dm += exp_ser(t,p_list[i-1]) * p_mat(i)\n",
    "        \n",
    "    dm /= 2\n",
    "    \n",
    "    return dm"
   ]
  },
  {
   "cell_type": "code",
   "execution_count": 256,
   "metadata": {},
   "outputs": [
    {
     "name": "stdout",
     "output_type": "stream",
     "text": [
      "[[0.808981655839908, 5.617475369082635, 3.969201633947063], [3.3854816667745666, 2.5372388532864623, 3.0970043934163876], [4.678343838797262, 2.6332176747569838, 0.6786935981736315], [0.7859726668410216, 3.445827545422753, 2.79145036768112]]\n"
     ]
    }
   ],
   "source": [
    "t = [[],[],[],[]]\n",
    "for i in range(4):\n",
    "    for j in range(3):\n",
    "        t[i].append(np.random.uniform(0,2*np.pi))\n",
    "\n",
    "print(t)"
   ]
  },
  {
   "cell_type": "code",
   "execution_count": 257,
   "metadata": {},
   "outputs": [],
   "source": [
    "dm_par = tomo_par(t)\n",
    "dm_ser = tomo_ser(t)"
   ]
  },
  {
   "cell_type": "code",
   "execution_count": 260,
   "metadata": {
    "scrolled": true
   },
   "outputs": [
    {
     "name": "stdout",
     "output_type": "stream",
     "text": [
      "0.022940286208648034\n",
      "1.002456939403068\n"
     ]
    }
   ],
   "source": [
    "print(la.norm(dm_par-dm_ser))\n",
    "print(np.real(np.trace(np.conj(dm_par).T @ dm_ser)))"
   ]
  },
  {
   "cell_type": "markdown",
   "metadata": {},
   "source": [
    "## Two Double-Qubit Example"
   ]
  },
  {
   "cell_type": "markdown",
   "metadata": {},
   "source": [
    "Functions for creating bell state circuits, random single and double qubit gates, and taking transpose"
   ]
  },
  {
   "cell_type": "code",
   "execution_count": 26,
   "metadata": {},
   "outputs": [],
   "source": [
    "# Create bell states\n",
    "def bell_state(circ,i,j):\n",
    "    circ.h(i)\n",
    "    circ.cx(i,j)"
   ]
  },
  {
   "cell_type": "code",
   "execution_count": null,
   "metadata": {},
   "outputs": [],
   "source": [
    "# angles is a list that must be at least of length 15\n",
    "def two_qubit(circ, i, j, angles):\n",
    "    circ.u3(angles[0], angles[1], angles[2], i)\n",
    "    circ.u3(angles[3], angles[4], angles[5], j)\n",
    "    circ.cx(j,i)\n",
    "    circ.rz(angles[6],i)\n",
    "    circ.ry(angles[7],j)\n",
    "    circ.cx(i,j)\n",
    "    circ.ry(angles[8],j)\n",
    "    circ.cx(j,i)\n",
    "    circ.u3(angles[9], angles[10], angles[11], i)\n",
    "    circ.u3(angles[12], angles[13], angles[14], j)\n",
    "    \n",
    "def two_qubit_transpose(circ, i, j, angles):\n",
    "    circ.u3(-angles[12],angles[14],angles[13], j)\n",
    "    circ.u3(-angles[9],angles[11],angles[10], i)\n",
    "    circ.cx(j,i)\n",
    "    circ.ry(-angles[8], j)\n",
    "    circ.cx(i,j)\n",
    "    circ.ry(-angles[7],j)\n",
    "    circ.rz(angles[6],i)\n",
    "    circ.cx(j,i)\n",
    "    circ.u3(-angles[3],angles[5],angles[4],j)\n",
    "    circ.u3(-angles[0],angles[2],angles[1],i)"
   ]
  },
  {
   "cell_type": "code",
   "execution_count": null,
   "metadata": {},
   "outputs": [],
   "source": [
    "n = 3\n",
    "\n",
    "# 15 angles to create double qubit gate, via Vatan-Williams decomp\n",
    "gate = np.zeros((4,15))\n",
    "for i in range(0,4):\n",
    "    for j in range(0,15):\n",
    "        gate[i,j] = 2*np.pi*np.random.rand()\n",
    "\n",
    "# Initialize circuits\n",
    "q1 = QuantumRegister(2*n,'q')\n",
    "c1 = ClassicalRegister(2*n,'c')\n",
    "circ1 = QuantumCircuit(q1,c1)\n",
    "\n",
    "q2 = QuantumRegister(2*n,'q')\n",
    "c2 = ClassicalRegister(2*n,'c')\n",
    "circ2 = QuantumCircuit(q2,c2)\n",
    "\n",
    "for line in range(0,n):\n",
    "    bell_state(circ1,line,line+n)\n",
    "    bell_state(circ2,line,line+n)\n",
    "    \n",
    "circ1.barrier()\n",
    "circ2.barrier()\n",
    "\n",
    "two_qubit(circ1,0,1,gate[0,:])\n",
    "two_qubit(circ1,3,4,gate[2,:])\n",
    "circ1.barrier()\n",
    "two_qubit(circ1,1,2,gate[1,:])\n",
    "two_qubit(circ1,4,5,gate[3,:])\n",
    "\n",
    "\n",
    "two_qubit_transpose(circ2,4,5,gate[1,:])\n",
    "circ2.barrier()\n",
    "two_qubit_transpose(circ2,3,4,gate[0,:])\n",
    "circ2.barrier()\n",
    "two_qubit(circ2,3,4,gate[2,:])\n",
    "circ2.barrier()\n",
    "two_qubit(circ2,4,5,gate[3,:])\n",
    "\n",
    "circ1.draw(output='mpl')"
   ]
  },
  {
   "cell_type": "code",
   "execution_count": null,
   "metadata": {},
   "outputs": [],
   "source": [
    "circ2.draw(output='mpl')"
   ]
  },
  {
   "cell_type": "markdown",
   "metadata": {},
   "source": [
    "Run each circuit"
   ]
  },
  {
   "cell_type": "code",
   "execution_count": null,
   "metadata": {},
   "outputs": [],
   "source": [
    "backend = BasicAer.get_backend('statevector_simulator')\n",
    "result1 = execute(circ1, backend).result()\n",
    "psi1 = result1.get_statevector()\n",
    "\n",
    "result2 = execute(circ2, backend).result()\n",
    "psi2 = result2.get_statevector()\n",
    "\n",
    "psi1 = factor_gp(psi1)\n",
    "psi2 = factor_gp(psi2)\n",
    "\n",
    "phases1 = get_phases(psi1)\n",
    "phases2 = get_phases(psi2)\n",
    "\n",
    "color_map = mp.cm.get_cmap('plasma')\n",
    "\n",
    "dic1 = dict_sv(psi1)\n",
    "plt.bar(dic1.keys(), dic1.values(), 0.5, color=color_map(phases1))\n",
    "plt.show()"
   ]
  },
  {
   "cell_type": "code",
   "execution_count": null,
   "metadata": {},
   "outputs": [],
   "source": [
    "dic2 = dict_sv(psi2)\n",
    "plt.bar(dic2.keys(), dic2.values(), 0.5, color=color_map(phases2))\n",
    "plt.show()"
   ]
  },
  {
   "cell_type": "markdown",
   "metadata": {},
   "source": [
    "## Time-Evolution Application"
   ]
  },
  {
   "cell_type": "markdown",
   "metadata": {},
   "source": [
    "### Ising-Model Hamiltonian"
   ]
  },
  {
   "cell_type": "markdown",
   "metadata": {},
   "source": [
    "Our example Hamiltonian is the 4-site Ising model with no external field:\n",
    "\n",
    "$$\n",
    "\\begin{align*}\n",
    "H = \\sum_{i<j=1}^4h_{ij}\n",
    "\\end{align*}\n",
    "$$\n",
    "\n",
    "where\n",
    "\n",
    "$$\n",
    "\\begin{align*}\n",
    "h_{ij} \\equiv J_{ij}(\\sigma_i\\cdot\\sigma_j) = J_{ij}(X_iX_j+Y_iY_j+Z_iZ_j)\n",
    "\\end{align*}\n",
    "$$\n",
    "\n",
    "The time-evolution operator is\n",
    "\n",
    "$$\n",
    "\\begin{align*}\n",
    "U(t) \n",
    "&= \n",
    "\\exp\\{-iHt\\}\n",
    "\\\\\n",
    "&= \n",
    "\\exp\\left\\{-i\\sum_{i<j=1}^4h_{ij}t\\right\\}\n",
    "\\\\\n",
    "&=\n",
    "\\prod_{i<j=1}^4u_{ij}\n",
    "+ \\mathcal{O}(t^2)\n",
    "\\end{align*}\n",
    "$$\n",
    "\n",
    "where\n",
    "\n",
    "$$\n",
    "\\begin{align*}\n",
    "u_{ij} \\equiv \\exp\\left\\{-ih_{ij}t\\right\\}\n",
    "\\end{align*}\n",
    "$$"
   ]
  },
  {
   "cell_type": "code",
   "execution_count": 203,
   "metadata": {},
   "outputs": [],
   "source": [
    "def kron_list(p_list):\n",
    "    x = p_list[0]\n",
    "    for i in range(1,len(p_list)):\n",
    "        x = np.kron(x,p_list[i])\n",
    "        \n",
    "    return x"
   ]
  },
  {
   "cell_type": "code",
   "execution_count": 204,
   "metadata": {},
   "outputs": [],
   "source": [
    "def string_to_mat(p_list):\n",
    "    \n",
    "    for p in range(len(p_list)):\n",
    "        if p_list[p] == 'I':\n",
    "            p_list[p] = I\n",
    "        if p_list[p] == 'X':\n",
    "            p_list[p] = X\n",
    "        elif p_list[p] == 'Y':\n",
    "            p_list[p] = Y\n",
    "        elif p_list[p] == 'Z':\n",
    "            p_list[p] = Z\n",
    "            \n",
    "    return p_list"
   ]
  },
  {
   "cell_type": "code",
   "execution_count": 205,
   "metadata": {},
   "outputs": [],
   "source": [
    "I = np.matrix([[1,0],[0,1]],dtype=complex)\n",
    "X = np.matrix([[0,1],[1,0]],dtype=complex)\n",
    "Y = np.matrix([[0,-1j],[1j,0]],dtype=complex)\n",
    "Z = np.matrix([[1,0],[0,-1]],dtype=complex)\n",
    "\n",
    "swap = np.array([[1,0,0,0],[0,0,1,0],[0,1,0,0],[0,0,0,1]])\n",
    "fswap = np.array([[1,0,0,0],[0,0,1,0],[0,1,0,0],[0,0,0,-1]])"
   ]
  },
  {
   "cell_type": "code",
   "execution_count": 206,
   "metadata": {},
   "outputs": [],
   "source": [
    "def h(i,j,J):\n",
    "    \n",
    "    h_mat = np.zeros((2**4,2**4),dtype=complex)\n",
    "\n",
    "    for p in range(3):\n",
    "        p_list = ['X','Y','Z']\n",
    "        h_list = ['I','I','I','I']\n",
    "        h_list[i] = p_list[p]\n",
    "        h_list[j] = p_list[p]\n",
    "        \n",
    "        h_string = string_to_mat(h_list)\n",
    "\n",
    "        h_mat += J[i][j] * kron_list(h_string)\n",
    "\n",
    "    return h_mat"
   ]
  },
  {
   "cell_type": "code",
   "execution_count": 207,
   "metadata": {},
   "outputs": [],
   "source": [
    "def U_0(J,t):\n",
    "    \n",
    "    H = np.zeros((2**4,2**4),dtype=complex)\n",
    "    \n",
    "    for i in range(4):\n",
    "        for j in range(i,4):\n",
    "            H += h(i,j,J)\n",
    "            \n",
    "    return sla.expm(-1j*H*t)"
   ]
  },
  {
   "cell_type": "code",
   "execution_count": 208,
   "metadata": {},
   "outputs": [],
   "source": [
    "def u(i,j,J,t):\n",
    "    \n",
    "    p_list = [X,Y,Z]\n",
    "    \n",
    "    paulis = np.zeros((4,4),dtype=complex)\n",
    "    for p in range(3):\n",
    "        paulis += np.kron(p_list[p],p_list[p])\n",
    "        \n",
    "    h = J[i][j] * paulis\n",
    "    \n",
    "    return sla.expm(-1j*h*t)"
   ]
  },
  {
   "cell_type": "code",
   "execution_count": 209,
   "metadata": {},
   "outputs": [],
   "source": [
    "def U_1(J,t):\n",
    "    \n",
    "    U = np.zeros((2**4,2**4),dtype=complex)\n",
    "    \n",
    "    for i in range(4):\n",
    "        for j in range(i,4):\n",
    "            U *= sla.expm(-1j*h(i,j,J,t))\n",
    "            \n",
    "    return U"
   ]
  },
  {
   "cell_type": "code",
   "execution_count": 210,
   "metadata": {},
   "outputs": [],
   "source": [
    "def J_mat():\n",
    "    \n",
    "    J = np.zeros((4,4),dtype=complex)\n",
    "    \n",
    "    for i in range(4):\n",
    "        for j in range(i,4):\n",
    "            J[i][j] = np.random.uniform(-1,1)\n",
    "            \n",
    "    return J"
   ]
  },
  {
   "cell_type": "markdown",
   "metadata": {},
   "source": [
    "### Circuit"
   ]
  },
  {
   "cell_type": "code",
   "execution_count": 249,
   "metadata": {},
   "outputs": [
    {
     "data": {
      "image/png": "[encoded data removed]",
      "text/plain": [
       "<Figure size 432x288 with 1 Axes>"
      ]
     },
     "metadata": {
      "needs_background": "light"
     },
     "output_type": "display_data"
    },
    {
     "data": {
      "image/png": "[encoded data removed]",
      "text/plain": [
       "<Figure size 698.32x565.88 with 1 Axes>"
      ]
     },
     "execution_count": 249,
     "metadata": {},
     "output_type": "execute_result"
    }
   ],
   "source": [
    "n = 4\n",
    "t = 1\n",
    "\n",
    "# Initialize circuits\n",
    "q = QuantumRegister(2*n,'q')\n",
    "c = ClassicalRegister(2*n,'c')\n",
    "circ = QuantumCircuit(q,c)\n",
    "\n",
    "for line in range(0,n):\n",
    "    bell_state(circ,line,line+n)\n",
    "\n",
    "circ.append(two_qubit_decomp((u(0,3,J,t) @ fswap).T),[q[1],q[2]])  \n",
    "circ.append(two_qubit_decomp((u(0,1,J,t) @ fswap).T),[q[0],q[1]]) \n",
    "circ.append(two_qubit_decomp((u(2,3,J,t) @ fswap).T),[q[2],q[3]]) \n",
    "\n",
    "circ.append(two_qubit_decomp(u(1,3,J,t) @ fswap),[q[4],q[5]]) \n",
    "circ.append(two_qubit_decomp(u(0,2,J,t) @ fswap),[q[6],q[7]]) \n",
    "circ.append(two_qubit_decomp(u(1,2,J,t) @ fswap),[q[5],q[6]])  \n",
    "\n",
    "backend = BasicAer.get_backend('statevector_simulator')\n",
    "result = execute(circ, backend).result()\n",
    "psi = result.get_statevector()\n",
    "\n",
    "#     return psi\n",
    "\n",
    "psi = factor_gp(psi)\n",
    "\n",
    "phases = get_phases(psi)\n",
    "\n",
    "color_map = mp.cm.get_cmap('plasma')\n",
    "\n",
    "dic = dict_sv(psi)\n",
    "plt.bar(dic.keys(), dic.values(), 0.5, color=color_map(phases))\n",
    "plt.show()\n",
    "\n",
    "circ.draw(output='mpl')"
   ]
  },
  {
   "cell_type": "code",
   "execution_count": 250,
   "metadata": {},
   "outputs": [
    {
     "data": {
      "image/png": "[encoded data removed]",
      "text/plain": [
       "<Figure size 432x288 with 1 Axes>"
      ]
     },
     "metadata": {
      "needs_background": "light"
     },
     "output_type": "display_data"
    },
    {
     "data": {
      "image/png": "[encoded data removed]",
      "text/plain": [
       "<Figure size 939.12x565.88 with 1 Axes>"
      ]
     },
     "execution_count": 250,
     "metadata": {},
     "output_type": "execute_result"
    }
   ],
   "source": [
    "n = 4\n",
    "t = 1\n",
    "\n",
    "# Initialize circuits\n",
    "q = QuantumRegister(2*n,'q')\n",
    "c = ClassicalRegister(2*n,'c')\n",
    "circ = QuantumCircuit(q,c)\n",
    "\n",
    "for line in range(0,n):\n",
    "    bell_state(circ,line,line+n)\n",
    "\n",
    "circ.append(two_qubit_decomp((u(0,1,J,t) @ fswap).T),[q[4],q[5]])  \n",
    "circ.append(two_qubit_decomp((u(2,3,J,t) @ fswap).T),[q[6],q[7]]) \n",
    "circ.append(two_qubit_decomp((u(0,3,J,t) @ fswap).T),[q[5],q[6]]) \n",
    "\n",
    "circ.append(two_qubit_decomp(u(1,3,J,t) @ fswap),[q[4],q[5]]) \n",
    "circ.append(two_qubit_decomp(u(0,2,J,t) @ fswap),[q[6],q[7]]) \n",
    "circ.append(two_qubit_decomp(u(1,2,J,t) @ fswap),[q[5],q[6]])  \n",
    "\n",
    "backend = BasicAer.get_backend('statevector_simulator')\n",
    "result = execute(circ, backend).result()\n",
    "psi = result.get_statevector()\n",
    "\n",
    "#     return psi\n",
    "\n",
    "psi = factor_gp(psi)\n",
    "\n",
    "phases = get_phases(psi)\n",
    "\n",
    "color_map = mp.cm.get_cmap('plasma')\n",
    "\n",
    "dic = dict_sv(psi)\n",
    "plt.bar(dic.keys(), dic.values(), 0.5, color=color_map(phases))\n",
    "plt.show()\n",
    "\n",
    "circ.draw(output='mpl')"
   ]
  }
 ],
 "metadata": {
  "kernelspec": {
   "display_name": "Python 3",
   "language": "python",
   "name": "python3"
  },
  "language_info": {
   "codemirror_mode": {
    "name": "ipython",
    "version": 3
   },
   "file_extension": ".py",
   "mimetype": "text/x-python",
   "name": "python",
   "nbconvert_exporter": "python",
   "pygments_lexer": "ipython3",
   "version": "3.7.3"
  }
 },
 "nbformat": 4,
 "nbformat_minor": 2
}
